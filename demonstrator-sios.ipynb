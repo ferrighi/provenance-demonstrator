{
 "cells": [
  {
   "cell_type": "code",
   "execution_count": 1,
   "metadata": {},
   "outputs": [
    {
     "ename": "ModuleNotFoundError",
     "evalue": "No module named 'prov'",
     "output_type": "error",
     "traceback": [
      "\u001b[0;31m---------------------------------------------------------------------------\u001b[0m",
      "\u001b[0;31mModuleNotFoundError\u001b[0m                       Traceback (most recent call last)",
      "\u001b[0;32m<ipython-input-1-78982bf53199>\u001b[0m in \u001b[0;36m<module>\u001b[0;34m()\u001b[0m\n\u001b[1;32m      1\u001b[0m \u001b[0;32mfrom\u001b[0m \u001b[0mIPython\u001b[0m\u001b[0;34m.\u001b[0m\u001b[0mdisplay\u001b[0m \u001b[0;32mimport\u001b[0m \u001b[0mdisplay\u001b[0m\u001b[0;34m,\u001b[0m \u001b[0mImage\u001b[0m\u001b[0;34m\u001b[0m\u001b[0m\n\u001b[0;32m----> 2\u001b[0;31m \u001b[0;32mfrom\u001b[0m \u001b[0mprov\u001b[0m\u001b[0;34m.\u001b[0m\u001b[0mmodel\u001b[0m \u001b[0;32mimport\u001b[0m \u001b[0mProvDocument\u001b[0m\u001b[0;34m\u001b[0m\u001b[0m\n\u001b[0m\u001b[1;32m      3\u001b[0m \u001b[0;32mfrom\u001b[0m \u001b[0mprov\u001b[0m\u001b[0;34m.\u001b[0m\u001b[0mdot\u001b[0m \u001b[0;32mimport\u001b[0m \u001b[0mprov_to_dot\u001b[0m\u001b[0;34m\u001b[0m\u001b[0m\n\u001b[1;32m      4\u001b[0m \u001b[0;32mfrom\u001b[0m \u001b[0mshortid\u001b[0m \u001b[0;32mimport\u001b[0m \u001b[0mShortId\u001b[0m\u001b[0;34m\u001b[0m\u001b[0m\n",
      "\u001b[0;31mModuleNotFoundError\u001b[0m: No module named 'prov'"
     ]
    }
   ],
   "source": [
    "from IPython.display import display, Image\n",
    "from prov.model import ProvDocument\n",
    "from prov.dot import prov_to_dot\n",
    "from shortid import ShortId"
   ]
  },
  {
   "cell_type": "code",
   "execution_count": 1,
   "metadata": {},
   "outputs": [
    {
     "ename": "IndentationError",
     "evalue": "unexpected indent (<ipython-input-1-0fc774e25310>, line 51)",
     "output_type": "error",
     "traceback": [
      "\u001b[0;36m  File \u001b[0;32m\"<ipython-input-1-0fc774e25310>\"\u001b[0;36m, line \u001b[0;32m51\u001b[0m\n\u001b[0;31m    'prov:type': 'obo:NCIT_C15311'})\u001b[0m\n\u001b[0m    ^\u001b[0m\n\u001b[0;31mIndentationError\u001b[0m\u001b[0;31m:\u001b[0m unexpected indent\n"
     ]
    }
   ],
   "source": [
    "#Specific Weather station steps \n",
    "#instrument/measures/parameter\n",
    "#logger/records/observation\n",
    "#Iridium/sends/data\n",
    "#Obsinn/converts to kvalobsformat/data\n",
    "#Kvalobs/controls/data\n",
    "#kdvh/stores/data\n",
    "\n",
    "vocab = {\n",
    "    'obo:SIO_001054': 'measuring',\n",
    "    'obo:SIO_000396': 'file',\n",
    "    'obo:NCIT_C15311': 'Quality Control',\n",
    "    'obo:NCIT_C48177': 'Processing',\n",
    "    'obo:OBI_0200170': 'averaging data transformation',\n",
    "    #add air pressure at sea level \n",
    "    'sopropp:SeaLevelPressure': 'air pressure at sea level',\n",
    "    'vnc:CFSN0022' : 'air pressure at sea level'\n",
    "    #what is identifier SDN:P07::CFSN0022?\n",
    "}\n",
    "\n",
    "sid = ShortId()\n",
    "prov = ProvDocument()\n",
    "\n",
    "#ontology namespace \n",
    "prov.add_namespace('obo', 'http://purl.obolibrary.org/obo/')\n",
    "prov.add_namespace('metno', 'http://metno.no/')\n",
    "prov.add_namespace('pidinst', 'http://pidinst.org/')\n",
    "#sweet ontology prop pressure\n",
    "prov.add_namespace('sopropp','http://sweetontology.net/propPressure/')\n",
    "prov.add_namespace('vcn','http://vocab.nerc.ac.uk/collection/P07/current/')\n",
    "prov.add_namespace('rdfs', 'http://www.w3.org/2000/01/rdf-schema#')\n",
    "\n",
    "#first set of triples: instruments measures parameter\n",
    "#baromenter/measures/air_pressure_at_sea_level\n",
    "\n",
    "#the barometer\n",
    "ag1 = prov.agent('metno:instrument/{}'.format(sid.generate()), \n",
    "                 other_attributes={'prov:type': 'pidinst:MeasuringInstrument',\n",
    "                                   'pidinst:InstrumentType': 'barometer'})\n",
    "\n",
    "#measures\n",
    "ac1 = prov.activity('metno:activities/{}'.format(sid.generate()), '1996-01-01T03:00:00', \n",
    "                    other_attributes={'prov:label': vocab['obo:SIO_001054'], \n",
    "                                      'prov:type': 'obo:SIO_001054'})\n",
    "\n",
    "#                                                                                                          \n",
    "et1 = prov.entity('metno:variables/{}'.format(sid.generate()), \n",
    "                  other_attributes={'prov:type': 'sopropp:SeaLevelPressure'})\n",
    "\n",
    "#ac2 = prov.activity('nilu:activities/{}'.format(sid.generate()), '2019-12-03T12:10:09', other_attributes={'prov:label': vocab['obo:NCIT_C15311'], \n",
    "#                                                                                                                              'prov:type': 'obo:NCIT_C15311'})\n",
    "#ac3 = prov.activity('nilu:activities/{}'.format(sid.generate()), '2019-12-03T12:10:09', other_attributes={'prov:label': vocab['obo:NCIT_C48177'], \n",
    "#                                                                                                                              'prov:type': 'obo:NCIT_C48177'})\n",
    "#ac4 = prov.activity('nilu:activities/{}'.format(sid.generate()), '2019-12-03T12:20:12', other_attributes={'prov:label': vocab['obo:OBI_0200170'], \n",
    "#                                                                                                                             'prov:type': 'obo:OBI_0200170'})\n",
    "    \n",
    "prov.wasGeneratedBy(et1, ac1)\n",
    "prov.wasAssociatedWith(ac1, ag1)\n",
    "\n",
    "prov.serialize('data-provenance-sios.ttl', format='rdf', rdf_format='ttl')\n",
    "\n",
    "dot = prov_to_dot(prov)\n",
    "display(Image(dot.create_png()))"
   ]
  },
  {
   "cell_type": "code",
   "execution_count": null,
   "metadata": {},
   "outputs": [],
   "source": []
  }
 ],
 "metadata": {
  "kernelspec": {
   "display_name": "Python 3",
   "language": "python",
   "name": "python3"
  },
  "language_info": {
   "codemirror_mode": {
    "name": "ipython",
    "version": 3
   },
   "file_extension": ".py",
   "mimetype": "text/x-python",
   "name": "python",
   "nbconvert_exporter": "python",
   "pygments_lexer": "ipython3",
   "version": "3.7.0"
  }
 },
 "nbformat": 4,
 "nbformat_minor": 4
}
